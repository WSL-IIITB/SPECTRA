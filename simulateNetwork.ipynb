{
 "cells": [
  {
   "cell_type": "code",
   "execution_count": 1,
   "metadata": {},
   "outputs": [],
   "source": [
    "import networkx as nx\n",
    "import matplotlib.pyplot as plt\n",
    "import math\n",
    "import random\n",
    "import numpy as np\n",
    "import copy\n",
    "from deonticAgent import deonticAgent\n",
    "from virtuousAgent import virtuousAgent\n",
    "from utilitarianAgent import utilitarianAgent\n",
    "from transcendenceAgent import transcendenceAgent\n",
    "from populationGraph import populationGraph\n",
    "from plotFunctions import *\n",
    "from adversarialAgent import adversarialAgent"
   ]
  },
  {
   "cell_type": "code",
   "execution_count": 2,
   "metadata": {},
   "outputs": [],
   "source": [
    "#Network parameters\n",
    "msgUtility = 10\n",
    "costFactor = 0.1\n",
    "numNodes = 20\n",
    "numMsg = 200\n",
    "myseed = 32\n",
    "maxEpochs = 10000"
   ]
  },
  {
   "cell_type": "code",
   "execution_count": 3,
   "metadata": {},
   "outputs": [],
   "source": [
    "# G = nx.erdos_renyi_graph(numNodes, 0.2, seed=myseed)\n",
    "# myPos = nx.spring_layout(G, seed = 40)\n",
    "# nx.draw(G, pos=myPos, with_labels=True)"
   ]
  },
  {
   "cell_type": "code",
   "execution_count": 4,
   "metadata": {},
   "outputs": [
    {
     "name": "stdout",
     "output_type": "stream",
     "text": [
      "cost :  1.0  virtue points:  0\n",
      "forward utility  1.0\n",
      "cost :  1.0  virtue points:  0\n",
      "forward utility  1.0\n",
      "cost :  1.0  virtue points:  0\n",
      "forward utility  1.0\n",
      "cost :  1.0  virtue points:  0\n",
      "forward utility  1.0\n",
      "cost :  1.0  virtue points:  0\n",
      "forward utility  1.0\n",
      "cost :  1.01  virtue points:  2.0\n",
      "forward utility  0.99\n",
      "cost :  1.0  virtue points:  0\n",
      "forward utility  1.0\n",
      "cost :  0.91  virtue points:  0\n",
      "forward utility  1.0899999999999999\n",
      "cost :  0.8200000000000001  virtue points:  0\n",
      "forward utility  1.18\n",
      "cost :  1.0  virtue points:  0\n",
      "forward utility  1.0\n",
      "cost :  0.91  virtue points:  0\n",
      "forward utility  1.0899999999999999\n",
      "cost :  1.0  virtue points:  0\n",
      "forward utility  1.0\n",
      "cost :  1.0  virtue points:  0\n",
      "forward utility  1.0\n",
      "cost :  1.0  virtue points:  0\n",
      "forward utility  1.0\n",
      "cost :  0.92  virtue points:  2.0\n",
      "forward utility  1.08\n",
      "cost :  1.01  virtue points:  2.0\n",
      "forward utility  0.99\n",
      "cost :  1.01  virtue points:  2.0\n",
      "forward utility  0.99\n",
      "cost :  0.92  virtue points:  2.0\n",
      "forward utility  1.08\n",
      "cost :  0.92  virtue points:  2.0\n",
      "forward utility  1.08\n",
      "cost :  0.91  virtue points:  0\n",
      "forward utility  1.0899999999999999\n",
      "cost :  1.01  virtue points:  2.0\n",
      "forward utility  0.99\n",
      "cost :  0.64  virtue points:  0\n",
      "forward utility  1.3599999999999999\n",
      "cost :  1.01  virtue points:  2.0\n",
      "forward utility  0.99\n",
      "cost :  0.9299999999999999  virtue points:  4.0\n",
      "forward utility  1.07\n",
      "cost :  0.6499999999999999  virtue points:  2.0\n",
      "forward utility  1.35\n",
      "cost :  1.02  virtue points:  4.0\n",
      "forward utility  0.98\n",
      "cost :  0.91  virtue points:  0\n",
      "forward utility  1.0899999999999999\n",
      "cost :  0.9299999999999999  virtue points:  4.0\n",
      "forward utility  1.07\n",
      "cost :  0.84  virtue points:  4.0\n",
      "forward utility  1.1600000000000001\n",
      "cost :  0.85  virtue points:  6.0\n",
      "forward utility  1.15\n",
      "cost :  0.9299999999999999  virtue points:  4.0\n",
      "forward utility  1.07\n",
      "cost :  1.01  virtue points:  2.0\n",
      "forward utility  0.99\n",
      "cost :  0.83  virtue points:  2.0\n",
      "forward utility  1.17\n",
      "cost :  0.94  virtue points:  6.0\n",
      "forward utility  1.06\n",
      "cost :  0.84  virtue points:  4.0\n",
      "forward utility  1.1600000000000001\n",
      "cost :  0.9299999999999999  virtue points:  4.0\n",
      "forward utility  1.07\n",
      "cost :  0.91  virtue points:  0\n",
      "forward utility  1.0899999999999999\n",
      "cost :  0.85  virtue points:  6.0\n",
      "forward utility  1.15\n",
      "cost :  0.6699999999999999  virtue points:  2.0\n",
      "forward utility  1.33\n",
      "cost :  0.92  virtue points:  2.0\n",
      "forward utility  1.08\n",
      "cost :  0.8200000000000001  virtue points:  0\n",
      "forward utility  1.18\n",
      "cost :  0.5700000000000001  virtue points:  4.0\n",
      "forward utility  1.43\n",
      "cost :  0.83  virtue points:  2.0\n",
      "forward utility  1.17\n",
      "cost :  0.85  virtue points:  4.0\n",
      "forward utility  1.15\n",
      "cost :  0.95  virtue points:  8.0\n",
      "forward utility  1.05\n",
      "cost :  0.83  virtue points:  2.0\n",
      "forward utility  1.17\n",
      "cost :  0.86  virtue points:  6.0\n",
      "forward utility  1.1400000000000001\n",
      "cost :  0.86  virtue points:  8.0\n",
      "forward utility  1.1400000000000001\n",
      "cost :  0.6799999999999999  virtue points:  4.0\n",
      "forward utility  1.32\n",
      "cost :  1.01  virtue points:  2.0\n",
      "forward utility  0.99\n",
      "cost :  0.49  virtue points:  6.0\n",
      "forward utility  1.51\n",
      "cost :  0.84  virtue points:  4.0\n",
      "forward utility  1.1600000000000001\n",
      "cost :  0.4  virtue points:  4.0\n",
      "forward utility  1.6\n",
      "cost :  0.78  virtue points:  10.0\n",
      "forward utility  1.22\n",
      "cost :  0.69  virtue points:  6.0\n",
      "forward utility  1.31\n",
      "cost :  0.7  virtue points:  8.0\n",
      "forward utility  1.3\n",
      "cost :  1.0  virtue points:  0\n",
      "forward utility  1.0\n",
      "cost :  1.04  virtue points:  4.0\n",
      "forward utility  0.96\n",
      "cost :  0.94  virtue points:  6.0\n",
      "forward utility  1.06\n",
      "cost :  0.75  virtue points:  4.0\n",
      "forward utility  1.25\n",
      "cost :  1.05  virtue points:  6.0\n",
      "forward utility  0.95\n",
      "cost :  0.71  virtue points:  10.0\n",
      "forward utility  1.29\n",
      "cost :  0.87  virtue points:  8.0\n",
      "forward utility  1.13\n",
      "cost :  0.76  virtue points:  6.0\n",
      "forward utility  1.24\n",
      "cost :  0.83  virtue points:  2.0\n",
      "forward utility  1.17\n",
      "cost :  0.72  virtue points:  12.0\n",
      "forward utility  1.28\n",
      "cost :  0.96  virtue points:  10.0\n",
      "forward utility  1.04\n",
      "cost :  1.06  virtue points:  8.0\n",
      "forward utility  0.94\n",
      "cost :  0.29000000000000004  virtue points:  2.0\n",
      "forward utility  1.71\n",
      "cost :  0.7  virtue points:  12.0\n",
      "forward utility  1.3\n",
      "cost :  1.01  virtue points:  2.0\n",
      "forward utility  0.99\n",
      "cost :  1.02  virtue points:  4.0\n",
      "forward utility  0.98\n",
      "cost :  0.77  virtue points:  8.0\n",
      "forward utility  1.23\n",
      "cost :  0.8200000000000001  virtue points:  14.0\n",
      "forward utility  1.18\n",
      "cost :  0.6599999999999999  virtue points:  4.0\n",
      "forward utility  1.34\n",
      "cost :  1.02  virtue points:  4.0\n",
      "forward utility  0.98\n",
      "cost :  0.85  virtue points:  6.0\n",
      "forward utility  1.15\n",
      "cost :  0.73  virtue points:  14.0\n",
      "forward utility  1.27\n",
      "cost :  0.13  virtue points:  6.0\n",
      "forward utility  1.87\n",
      "cost :  0.86  virtue points:  8.0\n",
      "forward utility  1.1400000000000001\n",
      "cost :  0.74  virtue points:  16.0\n",
      "forward utility  1.26\n",
      "cost :  1.03  virtue points:  6.0\n",
      "forward utility  0.97\n",
      "cost :  0.14  virtue points:  6.0\n",
      "forward utility  1.8599999999999999\n",
      "cost :  0.78  virtue points:  10.0\n",
      "forward utility  1.22\n",
      "cost :  0.79  virtue points:  12.0\n",
      "forward utility  1.21\n",
      "cost :  0.87  virtue points:  10.0\n",
      "forward utility  1.13\n",
      "cost :  0.7  virtue points:  10.0\n",
      "forward utility  1.3\n",
      "cost :  0.4  virtue points:  6.0\n",
      "forward utility  1.6\n",
      "cost :  0.95  virtue points:  8.0\n",
      "forward utility  1.05\n",
      "cost :  0.88  virtue points:  12.0\n",
      "forward utility  1.12\n",
      "cost :  0.12  virtue points:  4.0\n",
      "forward utility  1.88\n",
      "cost :  1.07  virtue points:  10.0\n",
      "forward utility  0.9299999999999999\n",
      "cost :  0.75  virtue points:  18.0\n",
      "forward utility  1.25\n",
      "cost :  0.75  virtue points:  4.0\n",
      "forward utility  1.25\n",
      "cost :  -0.1200000000000001  virtue points:  8.0\n",
      "forward utility  2.12\n",
      "cost :  0.88  virtue points:  12.0\n",
      "forward utility  1.12\n",
      "cost :  1.08  virtue points:  12.0\n",
      "forward utility  0.9199999999999999\n",
      "cost :  0.83  virtue points:  16.0\n",
      "forward utility  1.17\n",
      "cost :  0.6599999999999999  virtue points:  4.0\n",
      "forward utility  1.34\n",
      "cost :  0.6599999999999999  virtue points:  4.0\n",
      "forward utility  1.34\n",
      "cost :  1.2  virtue points:  14.0\n",
      "forward utility  0.8\n",
      "cost :  0.040000000000000036  virtue points:  6.0\n",
      "forward utility  1.96\n",
      "cost :  0.59  virtue points:  8.0\n",
      "forward utility  1.4100000000000001\n",
      "cost :  0.6  virtue points:  10.0\n",
      "forward utility  1.4\n",
      "cost :  0.04999999999999993  virtue points:  8.0\n",
      "forward utility  1.9500000000000002\n",
      "cost :  0.04999999999999993  virtue points:  8.0\n",
      "forward utility  1.9500000000000002\n",
      "cost :  0.89  virtue points:  14.0\n",
      "forward utility  1.1099999999999999\n",
      "cost :  0.05999999999999994  virtue points:  10.0\n",
      "forward utility  1.94\n",
      "cost :  0.5800000000000001  virtue points:  20.0\n",
      "forward utility  1.42\n",
      "cost :  0.76  virtue points:  6.0\n",
      "forward utility  1.24\n",
      "cost :  0.8  virtue points:  14.0\n",
      "forward utility  1.2\n",
      "cost :  0.71  virtue points:  12.0\n",
      "forward utility  1.29\n",
      "cost :  0.4  virtue points:  6.0\n",
      "forward utility  1.6\n",
      "cost :  0.53  virtue points:  14.0\n",
      "forward utility  1.47\n",
      "cost :  1.21  virtue points:  16.0\n",
      "forward utility  0.79\n",
      "cost :  0.06999999999999995  virtue points:  12.0\n",
      "forward utility  1.9300000000000002\n",
      "cost :  0.07999999999999996  virtue points:  14.0\n",
      "forward utility  1.92\n",
      "cost :  0.9299999999999999  virtue points:  2.0\n",
      "forward utility  1.07\n",
      "cost :  0.94  virtue points:  4.0\n",
      "forward utility  1.06\n",
      "cost :  0.77  virtue points:  8.0\n",
      "forward utility  1.23\n",
      "cost :  0.6599999999999999  virtue points:  2.0\n",
      "forward utility  1.34\n",
      "cost :  0.54  virtue points:  16.0\n",
      "forward utility  1.46\n",
      "cost :  0.55  virtue points:  18.0\n",
      "forward utility  1.45\n",
      "cost :  0.56  virtue points:  20.0\n",
      "forward utility  1.44\n",
      "cost :  0.72  virtue points:  14.0\n",
      "forward utility  1.28\n",
      "cost :  0.6699999999999999  virtue points:  4.0\n",
      "forward utility  1.33\n",
      "cost :  0.5700000000000001  virtue points:  22.0\n",
      "forward utility  1.43\n",
      "cost :  0.6599999999999999  virtue points:  18.0\n",
      "forward utility  1.34\n",
      "cost :  0.95  virtue points:  6.0\n",
      "forward utility  1.05\n",
      "cost :  0.5800000000000001  virtue points:  6.0\n",
      "forward utility  1.42\n",
      "cost :  0.96  virtue points:  10.0\n",
      "forward utility  1.04\n",
      "cost :  0.78  virtue points:  10.0\n",
      "forward utility  1.22\n",
      "cost :  0.9  virtue points:  16.0\n",
      "forward utility  1.1\n",
      "cost :  0.5800000000000001  virtue points:  20.0\n",
      "forward utility  1.42\n",
      "cost :  0.5800000000000001  virtue points:  24.0\n",
      "forward utility  1.42\n",
      "cost :  0.96  virtue points:  8.0\n",
      "forward utility  1.04\n",
      "cost :  0.59  virtue points:  26.0\n",
      "forward utility  1.4100000000000001\n",
      "cost :  0.5  virtue points:  22.0\n",
      "forward utility  1.5\n",
      "cost :  0.04999999999999993  virtue points:  8.0\n",
      "forward utility  1.9500000000000002\n",
      "cost :  0.81  virtue points:  12.0\n",
      "forward utility  1.19\n",
      "cost :  0.25  virtue points:  12.0\n",
      "forward utility  1.75\n",
      "cost :  0.73  virtue points:  16.0\n",
      "forward utility  1.27\n",
      "cost :  -0.44999999999999996  virtue points:  16.0\n",
      "forward utility  2.45\n",
      "cost :  0.49  virtue points:  6.0\n",
      "forward utility  1.51\n",
      "cost :  -0.43999999999999995  virtue points:  18.0\n",
      "forward utility  2.44\n",
      "cost :  -0.42999999999999994  virtue points:  20.0\n",
      "forward utility  2.4299999999999997\n",
      "cost :  0.91  virtue points:  18.0\n",
      "forward utility  1.0899999999999999\n",
      "cost :  0.44999999999999996  virtue points:  16.0\n",
      "forward utility  1.55\n",
      "cost :  0.16999999999999993  virtue points:  14.0\n",
      "forward utility  1.83\n",
      "cost :  0.92  virtue points:  20.0\n",
      "forward utility  1.08\n",
      "cost :  0.51  virtue points:  28.0\n",
      "forward utility  1.49\n",
      "cost :  -0.72  virtue points:  10.0\n",
      "forward utility  2.7199999999999998\n",
      "cost :  0.97  virtue points:  12.0\n",
      "forward utility  1.03\n",
      "cost :  0.9299999999999999  virtue points:  22.0\n",
      "forward utility  1.07\n",
      "cost :  0.73  virtue points:  14.0\n",
      "forward utility  1.27\n",
      "cost :  0.5  virtue points:  8.0\n",
      "forward utility  1.5\n",
      "cost :  0.33999999999999997  virtue points:  8.0\n",
      "forward utility  1.6600000000000001\n",
      "cost :  0.59  virtue points:  8.0\n",
      "forward utility  1.4100000000000001\n",
      "cost :  0.35  virtue points:  10.0\n",
      "forward utility  1.65\n",
      "cost :  0.51  virtue points:  10.0\n",
      "forward utility  1.49\n",
      "cost :  0.42999999999999994  virtue points:  22.0\n",
      "forward utility  1.57\n",
      "cost :  0.6799999999999999  virtue points:  6.0\n",
      "forward utility  1.32\n",
      "cost :  0.9299999999999999  virtue points:  20.0\n",
      "forward utility  1.07\n",
      "cost :  0.43999999999999995  virtue points:  24.0\n",
      "forward utility  1.56\n",
      "cost :  1.13  virtue points:  18.0\n",
      "forward utility  0.8700000000000001\n",
      "cost :  0.94  virtue points:  22.0\n",
      "forward utility  1.06\n",
      "cost :  0.44999999999999996  virtue points:  26.0\n",
      "forward utility  1.55\n",
      "cost :  0.45999999999999996  virtue points:  28.0\n",
      "forward utility  1.54\n",
      "cost :  -0.1200000000000001  virtue points:  10.0\n",
      "forward utility  2.12\n",
      "cost :  0.45999999999999996  virtue points:  18.0\n",
      "forward utility  1.54\n",
      "cost :  0.08999999999999997  virtue points:  16.0\n",
      "forward utility  1.9100000000000001\n",
      "cost :  -0.8  virtue points:  12.0\n",
      "forward utility  2.8\n",
      "cost :  0.64  virtue points:  14.0\n",
      "forward utility  1.3599999999999999\n",
      "cost :  0.88  virtue points:  10.0\n",
      "forward utility  1.12\n",
      "cost :  0.89  virtue points:  12.0\n",
      "forward utility  1.1099999999999999\n",
      "cost :  0.6499999999999999  virtue points:  16.0\n",
      "forward utility  1.35\n",
      "cost :  -0.79  virtue points:  14.0\n",
      "forward utility  2.79\n",
      "cost :  0.27  virtue points:  12.0\n",
      "forward utility  1.73\n",
      "cost :  0.51  virtue points:  8.0\n",
      "forward utility  1.49\n",
      "cost :  0.24  virtue points:  24.0\n",
      "forward utility  1.76\n",
      "cost :  0.25  virtue points:  26.0\n",
      "forward utility  1.75\n",
      "cost :  0.47  virtue points:  20.0\n",
      "forward utility  1.53\n",
      "cost :  -0.1100000000000001  virtue points:  12.0\n",
      "forward utility  2.1100000000000003\n",
      "cost :  0.48  virtue points:  18.0\n",
      "forward utility  1.52\n",
      "cost :  0.48  virtue points:  22.0\n",
      "forward utility  1.52\n",
      "cost :  0.98  virtue points:  14.0\n",
      "forward utility  1.02\n",
      "cost :  -0.78  virtue points:  16.0\n",
      "forward utility  2.7800000000000002\n",
      "cost :  0.63  virtue points:  30.0\n",
      "forward utility  -0.63\n",
      "cost :  0.26  virtue points:  28.0\n",
      "forward utility  1.74\n",
      "cost :  0.74  virtue points:  16.0\n",
      "forward utility  1.26\n",
      "cost :  0.8  virtue points:  10.0\n",
      "forward utility  1.2\n",
      "cost :  0.49  virtue points:  24.0\n",
      "forward utility  1.51\n",
      "cost :  0.38  virtue points:  30.0\n",
      "forward utility  -0.38\n",
      "[80, 90, 60, 0, 10, 130, 30, 210, 70, 20, 90, 40, 160, 60, 230, 140, 70, 100, 50, 60]\n",
      "185 15\n",
      "1\n"
     ]
    }
   ],
   "source": [
    "e = 0\n",
    "prevStates = []\n",
    "maxEpochs = 1\n",
    "common_attrs = {\"burnoutThreshold\":2*(numMsg*costFactor*msgUtility)/numNodes,\"burnoutDrop\":2}\n",
    "network = populationGraph(numNodes,[1],[virtuousAgent], common_attrs)\n",
    "while e<maxEpochs:\n",
    "    e+=1\n",
    "    G = network.getGraph()\n",
    "    msgList = network.createMsgs(numMsg)  #Message list creation\n",
    "    prevStates = [copy.deepcopy(G.nodes[i]['agent']) for i in range(numNodes)]\n",
    "    nf, nd = network.transmitMsgs()\n",
    "    print(network.getNetworkProp(\"utility\"))\n",
    "    print(nf, nd)\n",
    "    for i in range(numNodes) : G.nodes[i]['agent'].epochUpdate()\n",
    "    curStable = [G.nodes[i]['agent'].isStable(prevStates[i]) for i in range(numNodes)]\n",
    "    if np.count_nonzero(curStable) == numNodes:\n",
    "        break\n",
    "print(e)"
   ]
  },
  {
   "cell_type": "code",
   "execution_count": 5,
   "metadata": {},
   "outputs": [
    {
     "data": {
      "image/png": "[encoded data removed]",
      "text/plain": [
       "<Figure size 432x288 with 1 Axes>"
      ]
     },
     "metadata": {},
     "output_type": "display_data"
    }
   ],
   "source": [
    "network.plotGraph()"
   ]
  },
  {
   "cell_type": "code",
   "execution_count": 6,
   "metadata": {},
   "outputs": [
    {
     "name": "stdout",
     "output_type": "stream",
     "text": [
      "0.35\n"
     ]
    },
    {
     "data": {
      "text/plain": [
       "55.25"
      ]
     },
     "execution_count": 6,
     "metadata": {},
     "output_type": "execute_result"
    }
   ],
   "source": [
    "network.getResilience()"
   ]
  },
  {
   "cell_type": "code",
   "execution_count": 7,
   "metadata": {},
   "outputs": [
    {
     "data": {
      "text/plain": [
       "17.7"
      ]
     },
     "execution_count": 7,
     "metadata": {},
     "output_type": "execute_result"
    }
   ],
   "source": [
    "np.mean(network.getNetworkProp('virtuePoints'))"
   ]
  },
  {
   "cell_type": "code",
   "execution_count": 8,
   "metadata": {},
   "outputs": [
    {
     "name": "stdout",
     "output_type": "stream",
     "text": [
      "1700\n",
      "7\n"
     ]
    }
   ],
   "source": [
    "print(np.sum(network.getNetworkProp('utility')))\n",
    "print(np.sum(network.getNetworkProp('burnout')))"
   ]
  },
  {
   "cell_type": "code",
   "execution_count": 9,
   "metadata": {},
   "outputs": [
    {
     "name": "stdout",
     "output_type": "stream",
     "text": [
      "1\n",
      "20.0\n"
     ]
    }
   ],
   "source": [
    "print(G.nodes[0]['agent'].burnoutCount)\n",
    "print(G.nodes[0]['agent'].burnoutThreshold)"
   ]
  },
  {
   "cell_type": "code",
   "execution_count": 10,
   "metadata": {},
   "outputs": [
    {
     "data": {
      "image/png": "[encoded data removed]",
      "text/plain": [
       "<Figure size 432x288 with 1 Axes>"
      ]
     },
     "metadata": {
      "needs_background": "light"
     },
     "output_type": "display_data"
    }
   ],
   "source": [
    "plotAgentwiseProp(G, \"cost\")"
   ]
  },
  {
   "cell_type": "code",
   "execution_count": 11,
   "metadata": {},
   "outputs": [
    {
     "data": {
      "image/png": "[encoded data removed]",
      "text/plain": [
       "<Figure size 432x288 with 1 Axes>"
      ]
     },
     "metadata": {
      "needs_background": "light"
     },
     "output_type": "display_data"
    }
   ],
   "source": [
    "plotAgentwiseProp(G, \"virtuePoints\", plotMean=True)"
   ]
  },
  {
   "cell_type": "code",
   "execution_count": 12,
   "metadata": {},
   "outputs": [
    {
     "name": "stderr",
     "output_type": "stream",
     "text": [
      "/Users/janvichhabra/Documents/acad/Comparative-Ethics/plotFunctions.py:14: UserWarning: In Matplotlib 3.3 individual lines on a stem plot will be added as a LineCollection instead of individual lines. This significantly improves the performance of a stem plot. To remove this warning and switch to the new behaviour, set the \"use_line_collection\" keyword argument to True.\n",
      "  _,_,baseline = plt.stem(range(numNodes), propertyValues, use_line_collection=False)\n"
     ]
    },
    {
     "data": {
      "image/png": "[encoded data removed]",
      "text/plain": [
       "<Figure size 432x288 with 1 Axes>"
      ]
     },
     "metadata": {
      "needs_background": "light"
     },
     "output_type": "display_data"
    }
   ],
   "source": [
    "plotAgentwiseProp(G, \"burnout\", plotType='stem')"
   ]
  },
  {
   "cell_type": "code",
   "execution_count": 13,
   "metadata": {},
   "outputs": [
    {
     "data": {
      "image/png": "[encoded data removed]",
      "text/plain": [
       "<Figure size 432x288 with 1 Axes>"
      ]
     },
     "metadata": {
      "needs_background": "light"
     },
     "output_type": "display_data"
    }
   ],
   "source": [
    "plotAgentwiseProp(G, \"utility\")"
   ]
  },
  {
   "cell_type": "code",
   "execution_count": null,
   "metadata": {},
   "outputs": [],
   "source": []
  }
 ],
 "metadata": {
  "kernelspec": {
   "display_name": "Python 3.8.3",
   "language": "python",
   "name": "python3"
  },
  "language_info": {
   "codemirror_mode": {
    "name": "ipython",
    "version": 3
   },
   "file_extension": ".py",
   "mimetype": "text/x-python",
   "name": "python",
   "nbconvert_exporter": "python",
   "pygments_lexer": "ipython3",
   "version": "3.8.3"
  },
  "orig_nbformat": 4,
  "vscode": {
   "interpreter": {
    "hash": "c7e8890d500e49c804088b93123571aa5b4bc2517235313fddd92180cb5d0a5d"
   }
  }
 },
 "nbformat": 4,
 "nbformat_minor": 2
}
