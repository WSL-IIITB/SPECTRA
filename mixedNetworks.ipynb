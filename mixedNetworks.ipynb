{
 "cells": [
  {
   "cell_type": "code",
   "execution_count": 1,
   "metadata": {},
   "outputs": [],
   "source": [
    "import networkx as nx\n",
    "import matplotlib.pyplot as plt\n",
    "import math\n",
    "import random\n",
    "import numpy as np\n",
    "import copy\n",
    "from deonticAgent import deonticAgent\n",
    "from virtuousAgent import virtuousAgent\n",
    "from utilitarianAgent import utilitarianAgent\n",
    "from transcendenceAgent import transcendenceAgent\n",
    "from populationGraph import populationGraph\n",
    "from plotFunctions import *\n",
    "from adversarialAgent import adversarialAgent"
   ]
  },
  {
   "cell_type": "code",
   "execution_count": 2,
   "metadata": {},
   "outputs": [],
   "source": [
    "#Network parameters\n",
    "msgUtility = 10\n",
    "costFactor = 0.1\n",
    "numNodes = 20\n",
    "numMsg = 200\n",
    "myseed = 32\n",
    "maxEpochs = 1000"
   ]
  },
  {
   "cell_type": "code",
   "execution_count": 3,
   "metadata": {},
   "outputs": [
    {
     "name": "stdout",
     "output_type": "stream",
     "text": [
      "1 25\n",
      "['Utilitarian', 'Deontology', 'Virtue', 'Transcendence']\n",
      "{'Utilitarian': 0.2425, 'Deontology': 0.25, 'Virtue': 0.2325, 'Transcendence': 0.275}\n",
      "propDict  {'Utilitarian': 0.2425, 'Deontology': 0.25, 'Virtue': 0.2325, 'Transcendence': 0.275}\n",
      "2 20\n",
      "['Utilitarian', 'Deontology', 'Virtue', 'Transcendence']\n",
      "{'Utilitarian': 0.2525, 'Deontology': 0.22, 'Virtue': 0.2525, 'Transcendence': 0.275}\n",
      "propDict  {'Utilitarian': 0.2525, 'Deontology': 0.22, 'Virtue': 0.2525, 'Transcendence': 0.275}\n",
      "3 58\n",
      "['Utilitarian', 'Deontology', 'Virtue', 'Transcendence']\n",
      "{'Utilitarian': 0.24, 'Deontology': 0.235, 'Virtue': 0.255, 'Transcendence': 0.27}\n",
      "propDict  {'Utilitarian': 0.24, 'Deontology': 0.235, 'Virtue': 0.255, 'Transcendence': 0.27}\n",
      "4 45\n",
      "['Utilitarian', 'Deontology', 'Virtue', 'Transcendence']\n",
      "{'Utilitarian': 0.2525, 'Deontology': 0.2525, 'Virtue': 0.2675, 'Transcendence': 0.2275}\n",
      "propDict  {'Utilitarian': 0.2525, 'Deontology': 0.2525, 'Virtue': 0.2675, 'Transcendence': 0.2275}\n",
      "5 32\n",
      "['Utilitarian', 'Deontology', 'Virtue', 'Transcendence']\n",
      "{'Utilitarian': 0.2525, 'Deontology': 0.245, 'Virtue': 0.2775, 'Transcendence': 0.225}\n",
      "propDict  {'Utilitarian': 0.2525, 'Deontology': 0.245, 'Virtue': 0.2775, 'Transcendence': 0.225}\n",
      "6 49\n",
      "['Utilitarian', 'Deontology', 'Virtue', 'Transcendence']\n",
      "{'Utilitarian': 0.215, 'Deontology': 0.2625, 'Virtue': 0.2375, 'Transcendence': 0.285}\n",
      "propDict  {'Utilitarian': 0.215, 'Deontology': 0.2625, 'Virtue': 0.2375, 'Transcendence': 0.285}\n",
      "7 21\n",
      "['Utilitarian', 'Deontology', 'Virtue', 'Transcendence']\n",
      "{'Utilitarian': 0.26, 'Deontology': 0.25, 'Virtue': 0.235, 'Transcendence': 0.255}\n",
      "propDict  {'Utilitarian': 0.26, 'Deontology': 0.25, 'Virtue': 0.235, 'Transcendence': 0.255}\n",
      "8 20\n",
      "['Utilitarian', 'Deontology', 'Virtue', 'Transcendence']\n",
      "{'Utilitarian': 0.2475, 'Deontology': 0.275, 'Virtue': 0.2275, 'Transcendence': 0.25}\n",
      "propDict  {'Utilitarian': 0.2475, 'Deontology': 0.275, 'Virtue': 0.2275, 'Transcendence': 0.25}\n",
      "9 43\n",
      "['Utilitarian', 'Deontology', 'Virtue', 'Transcendence']\n",
      "{'Utilitarian': 0.225, 'Deontology': 0.235, 'Virtue': 0.2325, 'Transcendence': 0.3075}\n",
      "propDict  {'Utilitarian': 0.225, 'Deontology': 0.235, 'Virtue': 0.2325, 'Transcendence': 0.3075}\n",
      "{'Utilitarian': 0.21875, 'Deontology': 0.2225, 'Virtue': 0.22175000000000003, 'Transcendence': 0.23700000000000002}\n"
     ]
    }
   ],
   "source": [
    "dict = {\"msgUtility\" : 10,\n",
    "\"costFactor\" : 0.1,\n",
    "\"numNodes\" : 400,\n",
    "\"numMsg\" : 4000,\n",
    "\"myseed\" : 67,}\n",
    "\n",
    "cumData = {'Utilitarian':[], 'Deontology':[], 'Virtue':[], 'Transcendence':[]}\n",
    "overalProp = {'Utilitarian':0, 'Deontology':0, 'Virtue':0, 'Transcendence':0}\n",
    "simulations = 10\n",
    "for run in range(1,simulations):\n",
    "    e = 0\n",
    "    prevStates = []\n",
    "    common_attrs = {\"burnoutThreshold\":2*(dict[\"numMsg\"]*dict[\"costFactor\"]*dict[\"msgUtility\"])/dict[\"numNodes\"],\n",
    "    \"burnoutDrop\":2,\"gamma\":0.25, \"maxVirtueUtility\" : 4*(dict[\"numMsg\"]/dict[\"numNodes\"]), \"forwardProb\" : 0.9}\n",
    "    network = populationGraph(dict[\"numNodes\"],[0.25,0.25,0.25,0.25],[utilitarianAgent, deonticAgent, virtuousAgent, transcendenceAgent], common_attrs,seed=random.randint(0,1e7))\n",
    "    min_run = 2\n",
    "\n",
    "    # network.plotGraph()\n",
    "    while e<maxEpochs:\n",
    "        e+=1\n",
    "        G = network.getGraph()\n",
    "        msgList = network.createMsgs(dict[\"numMsg\"], myseed=32)  #Message list creation\n",
    "        prevStates = [copy.deepcopy(G.nodes[i]['agent']) for i in range(dict[\"numNodes\"])]\n",
    "        nf, nd = network.transmitMsgs()\n",
    "        for i in range(dict[\"numNodes\"]) : G.nodes[i]['agent'].epochUpdate()\n",
    "        curStable = [G.nodes[i]['agent'].isStable(prevStates[i]) for i in range(dict[\"numNodes\"])]\n",
    "        if np.count_nonzero(curStable) == dict[\"numNodes\"] and e > min_run:\n",
    "            break\n",
    "    #Test run\n",
    "    print(run, e)\n",
    "    network.reset()\n",
    "    G = network.getGraph()\n",
    "    msgList = network.createMsgs(dict[\"numMsg\"])  #Message list creation\n",
    "    nf, nd = network.transmitMsgs()\n",
    "    outcomeNetwork = copy.deepcopy(network)\n",
    "\n",
    "    dict[\"outcomeNetwork\"] = outcomeNetwork\n",
    "    propDict, agentDict = outcomeNetwork.getProportion()\n",
    "    print(\"propDict \", propDict)\n",
    "    for key in cumData:\n",
    "        cumData[key].extend(agentDict[key])\n",
    "        overalProp[key] += propDict[key]\n",
    "\n",
    "for key in overalProp:\n",
    "    overalProp[key]/=simulations\n",
    "print(overalProp)"
   ]
  },
  {
   "cell_type": "code",
   "execution_count": 4,
   "metadata": {},
   "outputs": [],
   "source": [
    "def plot_bar_local(agentDict, prop, opr = 'mean', simulations_count=1,fig_label='dummy'):\n",
    "    types = list(agentDict.keys())\n",
    "    propDict = {}\n",
    "    prop_stderror = []\n",
    "    for i in agentDict:\n",
    "        if(opr == 'mean'):\n",
    "            propDict[i] = np.mean([agent.getProperty(prop) for agent in agentDict[i]])\n",
    "            prop_std = np.std([agent.getProperty(prop) for agent in agentDict[i]])\n",
    "            prop_stderror.append(prop_std)\n",
    "            # plt.bar(types,list(propDict.values()),yerr=prop_std_err,color=['b','g','r','y'], align='center', alpha=0.5, ecolor='black', capsize=10)\n",
    "        elif(opr == 'sum'):\n",
    "            propDict[i] = np.sum([agent.getProperty(prop) for agent in agentDict[i]])/simulations_count\n",
    "            # plt.bar(types,list(propDict.values()),color=['b','g','r','y'], align='center', alpha=0.5, ecolor='black', capsize=10)\n",
    "    prop_stderror = [value/len(prop_stderror) for value in prop_stderror]\n",
    "    if(opr == 'mean'):\n",
    "        plt.bar(types,list(propDict.values()),yerr=prop_stderror,color=['b','g','r','y'], align='center', alpha=0.5, ecolor='black', capsize=10)\n",
    "    elif(opr == 'sum'):\n",
    "        plt.bar(types,list(propDict.values()),color=['b','g','r','y'], align='center', alpha=0.5, ecolor='black', capsize=10)\n",
    "    print(propDict)\n",
    "    print(\"type \", types)\n",
    "    y = list(propDict.values())\n",
    "    for i in range(len(types)):\n",
    "        plt.text(i,y[i]/2,round(y[i],2),ha = 'center')\n",
    "    plt.xlabel(\"Type of Ethical Agent\")\n",
    "    if opr==\"sum\":\n",
    "        plt.ylabel(\"Total \" + prop)\n",
    "    elif opr==\"mean\":\n",
    "        plt.ylabel(\"Average \" + prop)  \n",
    "    plt.savefig(\"results/\"+fig_label+\".png\", dpi=600)"
   ]
  },
  {
   "cell_type": "code",
   "execution_count": 5,
   "metadata": {},
   "outputs": [
    {
     "name": "stdout",
     "output_type": "stream",
     "text": [
      "{'Utilitarian': 85.17714285714285, 'Deontology': 85.51685393258427, 'Virtue': 87.4859075535513, 'Transcendence': 85.48523206751055}\n",
      "type  ['Utilitarian', 'Deontology', 'Virtue', 'Transcendence']\n"
     ]
    },
    {
     "data": {
      "image/png": "[encoded data removed]",
      "text/plain": [
       "<Figure size 432x288 with 1 Axes>"
      ]
     },
     "metadata": {
      "needs_background": "light"
     },
     "output_type": "display_data"
    }
   ],
   "source": [
    "plot_bar_local(cumData, 'utility', opr ='mean', simulations_count=simulations,fig_label='mixed_pop/utility')\n"
   ]
  },
  {
   "cell_type": "code",
   "execution_count": 6,
   "metadata": {},
   "outputs": [
    {
     "name": "stdout",
     "output_type": "stream",
     "text": [
      "{'Utilitarian': 19.571428571428573, 'Deontology': 18.905617977528088, 'Virtue': 19.412626832018038, 'Transcendence': 19.29746835443038}\n",
      "type  ['Utilitarian', 'Deontology', 'Virtue', 'Transcendence']\n"
     ]
    },
    {
     "data": {
      "image/png": "[encoded data removed]",
      "text/plain": [
       "<Figure size 432x288 with 1 Axes>"
      ]
     },
     "metadata": {
      "needs_background": "light"
     },
     "output_type": "display_data"
    }
   ],
   "source": [
    "plot_bar_local(cumData, 'cost', opr='mean', simulations_count=simulations,fig_label='mixed_pop/cost')"
   ]
  },
  {
   "cell_type": "code",
   "execution_count": 7,
   "metadata": {},
   "outputs": [
    {
     "name": "stdout",
     "output_type": "stream",
     "text": [
      "{'Utilitarian': 30.3, 'Deontology': 28.5, 'Virtue': 31.8, 'Transcendence': 32.0}\n",
      "type  ['Utilitarian', 'Deontology', 'Virtue', 'Transcendence']\n"
     ]
    },
    {
     "data": {
      "image/png": "[encoded data removed]",
      "text/plain": [
       "<Figure size 432x288 with 1 Axes>"
      ]
     },
     "metadata": {
      "needs_background": "light"
     },
     "output_type": "display_data"
    }
   ],
   "source": [
    "plot_bar_local(cumData, 'burnout', opr='sum', simulations_count=simulations,fig_label='mixed_pop/burnout')"
   ]
  },
  {
   "cell_type": "code",
   "execution_count": 8,
   "metadata": {},
   "outputs": [
    {
     "name": "stdout",
     "output_type": "stream",
     "text": [
      "{'Utilitarian': 0.9407511800696232, 'Deontology': 0.7866960826420943, 'Virtue': 0.8763441902546849, 'Transcendence': 0.8791743928281845}\n",
      "type  ['Utilitarian', 'Deontology', 'Virtue', 'Transcendence']\n"
     ]
    },
    {
     "data": {
      "image/png": "[encoded data removed]",
      "text/plain": [
       "<Figure size 432x288 with 1 Axes>"
      ]
     },
     "metadata": {
      "needs_background": "light"
     },
     "output_type": "display_data"
    }
   ],
   "source": [
    "plot_bar_local(cumData, 'responsibility_score', opr='mean', simulations_count=simulations,fig_label='mixed_pop/fwd_ratio')"
   ]
  },
  {
   "cell_type": "code",
   "execution_count": null,
   "metadata": {},
   "outputs": [],
   "source": []
  }
 ],
 "metadata": {
  "kernelspec": {
   "display_name": "Python 3.8.3",
   "language": "python",
   "name": "python3"
  },
  "language_info": {
   "codemirror_mode": {
    "name": "ipython",
    "version": 3
   },
   "file_extension": ".py",
   "mimetype": "text/x-python",
   "name": "python",
   "nbconvert_exporter": "python",
   "pygments_lexer": "ipython3",
   "version": "3.8.3"
  },
  "orig_nbformat": 4,
  "vscode": {
   "interpreter": {
    "hash": "0796865d59219048d2439a5fb954342bfceb6ce1fcebec34352eb55e8445235a"
   }
  }
 },
 "nbformat": 4,
 "nbformat_minor": 2
}
